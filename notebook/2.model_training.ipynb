{
 "cells": [
  {
   "cell_type": "code",
   "execution_count": 2,
   "metadata": {},
   "outputs": [
    {
     "name": "stdout",
     "output_type": "stream",
     "text": [
      "Collecting catboost\n",
      "  Downloading catboost-1.2.7-cp310-cp310-win_amd64.whl.metadata (1.2 kB)\n",
      "Collecting graphviz (from catboost)\n",
      "  Downloading graphviz-0.20.3-py3-none-any.whl.metadata (12 kB)\n",
      "Requirement already satisfied: matplotlib in c:\\users\\ashis\\desktop\\python\\code\\venv\\lib\\site-packages (from catboost) (3.9.2)\n",
      "Collecting numpy<2.0,>=1.16.0 (from catboost)\n",
      "  Downloading numpy-1.26.4-cp310-cp310-win_amd64.whl.metadata (61 kB)\n",
      "Requirement already satisfied: pandas>=0.24 in c:\\users\\ashis\\desktop\\python\\code\\venv\\lib\\site-packages (from catboost) (2.2.3)\n",
      "Requirement already satisfied: scipy in c:\\users\\ashis\\desktop\\python\\code\\venv\\lib\\site-packages (from catboost) (1.14.1)\n",
      "Requirement already satisfied: plotly in c:\\users\\ashis\\desktop\\python\\code\\venv\\lib\\site-packages (from catboost) (5.24.1)\n",
      "Requirement already satisfied: six in c:\\users\\ashis\\desktop\\python\\code\\venv\\lib\\site-packages (from catboost) (1.16.0)\n",
      "Requirement already satisfied: python-dateutil>=2.8.2 in c:\\users\\ashis\\desktop\\python\\code\\venv\\lib\\site-packages (from pandas>=0.24->catboost) (2.9.0)\n",
      "Requirement already satisfied: pytz>=2020.1 in c:\\users\\ashis\\desktop\\python\\code\\venv\\lib\\site-packages (from pandas>=0.24->catboost) (2024.2)\n",
      "Requirement already satisfied: tzdata>=2022.7 in c:\\users\\ashis\\desktop\\python\\code\\venv\\lib\\site-packages (from pandas>=0.24->catboost) (2024.2)\n",
      "Requirement already satisfied: contourpy>=1.0.1 in c:\\users\\ashis\\desktop\\python\\code\\venv\\lib\\site-packages (from matplotlib->catboost) (1.3.0)\n",
      "Requirement already satisfied: cycler>=0.10 in c:\\users\\ashis\\desktop\\python\\code\\venv\\lib\\site-packages (from matplotlib->catboost) (0.12.1)\n",
      "Requirement already satisfied: fonttools>=4.22.0 in c:\\users\\ashis\\desktop\\python\\code\\venv\\lib\\site-packages (from matplotlib->catboost) (4.54.1)\n",
      "Requirement already satisfied: kiwisolver>=1.3.1 in c:\\users\\ashis\\desktop\\python\\code\\venv\\lib\\site-packages (from matplotlib->catboost) (1.4.7)\n",
      "Requirement already satisfied: packaging>=20.0 in c:\\users\\ashis\\desktop\\python\\code\\venv\\lib\\site-packages (from matplotlib->catboost) (24.1)\n",
      "Requirement already satisfied: pillow>=8 in c:\\users\\ashis\\desktop\\python\\code\\venv\\lib\\site-packages (from matplotlib->catboost) (11.0.0)\n",
      "Requirement already satisfied: pyparsing>=2.3.1 in c:\\users\\ashis\\desktop\\python\\code\\venv\\lib\\site-packages (from matplotlib->catboost) (3.2.0)\n",
      "Requirement already satisfied: tenacity>=6.2.0 in c:\\users\\ashis\\desktop\\python\\code\\venv\\lib\\site-packages (from plotly->catboost) (9.0.0)\n",
      "Downloading catboost-1.2.7-cp310-cp310-win_amd64.whl (101.8 MB)\n",
      "   ---------------------------------------- 0.0/101.8 MB ? eta -:--:--\n",
      "    --------------------------------------- 1.3/101.8 MB 11.2 MB/s eta 0:00:10\n",
      "   - -------------------------------------- 2.9/101.8 MB 8.4 MB/s eta 0:00:12\n",
      "   - -------------------------------------- 4.5/101.8 MB 8.4 MB/s eta 0:00:12\n",
      "   -- ------------------------------------- 5.5/101.8 MB 7.1 MB/s eta 0:00:14\n",
      "   -- ------------------------------------- 6.6/101.8 MB 6.8 MB/s eta 0:00:14\n",
      "   --- ------------------------------------ 9.2/101.8 MB 7.6 MB/s eta 0:00:13\n",
      "   ---- ----------------------------------- 11.0/101.8 MB 7.8 MB/s eta 0:00:12\n",
      "   ---- ----------------------------------- 12.1/101.8 MB 7.9 MB/s eta 0:00:12\n",
      "   ----- ---------------------------------- 13.9/101.8 MB 7.5 MB/s eta 0:00:12\n",
      "   ------ --------------------------------- 17.0/101.8 MB 8.3 MB/s eta 0:00:11\n",
      "   ------- -------------------------------- 18.6/101.8 MB 8.2 MB/s eta 0:00:11\n",
      "   -------- ------------------------------- 20.7/101.8 MB 8.4 MB/s eta 0:00:10\n",
      "   --------- ------------------------------ 23.1/101.8 MB 8.6 MB/s eta 0:00:10\n",
      "   ---------- ----------------------------- 25.7/101.8 MB 8.8 MB/s eta 0:00:09\n",
      "   ----------- ---------------------------- 28.0/101.8 MB 9.0 MB/s eta 0:00:09\n",
      "   ------------ --------------------------- 30.7/101.8 MB 9.2 MB/s eta 0:00:08\n",
      "   ------------- -------------------------- 33.3/101.8 MB 9.4 MB/s eta 0:00:08\n",
      "   -------------- ------------------------- 35.9/101.8 MB 9.6 MB/s eta 0:00:07\n",
      "   --------------- ------------------------ 38.5/101.8 MB 9.7 MB/s eta 0:00:07\n",
      "   ---------------- ----------------------- 41.2/101.8 MB 9.9 MB/s eta 0:00:07\n",
      "   ---------------- ----------------------- 42.7/101.8 MB 10.0 MB/s eta 0:00:06\n",
      "   ------------------ --------------------- 46.7/101.8 MB 10.1 MB/s eta 0:00:06\n",
      "   ------------------- -------------------- 49.0/101.8 MB 10.2 MB/s eta 0:00:06\n",
      "   -------------------- ------------------- 51.6/101.8 MB 10.3 MB/s eta 0:00:05\n",
      "   --------------------- ------------------ 54.3/101.8 MB 10.4 MB/s eta 0:00:05\n",
      "   ---------------------- ----------------- 56.6/101.8 MB 10.4 MB/s eta 0:00:05\n",
      "   ----------------------- ---------------- 59.0/101.8 MB 10.5 MB/s eta 0:00:05\n",
      "   ------------------------ --------------- 61.6/101.8 MB 10.5 MB/s eta 0:00:04\n",
      "   ------------------------- -------------- 64.2/101.8 MB 10.6 MB/s eta 0:00:04\n",
      "   -------------------------- ------------- 66.6/101.8 MB 10.6 MB/s eta 0:00:04\n",
      "   --------------------------- ------------ 68.9/101.8 MB 10.6 MB/s eta 0:00:04\n",
      "   ---------------------------- ----------- 71.6/101.8 MB 10.7 MB/s eta 0:00:03\n",
      "   ----------------------------- ---------- 73.9/101.8 MB 10.7 MB/s eta 0:00:03\n",
      "   ------------------------------ --------- 76.5/101.8 MB 10.8 MB/s eta 0:00:03\n",
      "   ------------------------------- -------- 79.2/101.8 MB 10.8 MB/s eta 0:00:03\n",
      "   -------------------------------- ------- 81.8/101.8 MB 10.9 MB/s eta 0:00:02\n",
      "   --------------------------------- ------ 84.4/101.8 MB 10.9 MB/s eta 0:00:02\n",
      "   ---------------------------------- ----- 87.3/101.8 MB 11.0 MB/s eta 0:00:02\n",
      "   ----------------------------------- ---- 89.9/101.8 MB 11.0 MB/s eta 0:00:02\n",
      "   ------------------------------------ --- 92.8/101.8 MB 11.0 MB/s eta 0:00:01\n",
      "   ------------------------------------- -- 95.2/101.8 MB 11.1 MB/s eta 0:00:01\n",
      "   -------------------------------------- - 98.0/101.8 MB 11.1 MB/s eta 0:00:01\n",
      "   --------------------------------------  100.7/101.8 MB 11.2 MB/s eta 0:00:01\n",
      "   --------------------------------------  101.7/101.8 MB 11.2 MB/s eta 0:00:01\n",
      "   --------------------------------------  101.7/101.8 MB 11.2 MB/s eta 0:00:01\n",
      "   --------------------------------------- 101.8/101.8 MB 10.8 MB/s eta 0:00:00\n",
      "Downloading numpy-1.26.4-cp310-cp310-win_amd64.whl (15.8 MB)\n",
      "   ---------------------------------------- 0.0/15.8 MB ? eta -:--:--\n",
      "   --------- ------------------------------ 3.7/15.8 MB 18.1 MB/s eta 0:00:01\n",
      "   --------------- ------------------------ 6.0/15.8 MB 15.4 MB/s eta 0:00:01\n",
      "   --------------------- ------------------ 8.7/15.8 MB 14.5 MB/s eta 0:00:01\n",
      "   ---------------------------- ----------- 11.3/15.8 MB 13.8 MB/s eta 0:00:01\n",
      "   ----------------------------------- ---- 14.2/15.8 MB 13.7 MB/s eta 0:00:01\n",
      "   ---------------------------------------- 15.8/15.8 MB 12.9 MB/s eta 0:00:00\n",
      "Downloading graphviz-0.20.3-py3-none-any.whl (47 kB)\n",
      "Installing collected packages: numpy, graphviz, catboost\n",
      "  Attempting uninstall: numpy\n",
      "    Found existing installation: numpy 2.1.2\n",
      "    Uninstalling numpy-2.1.2:\n",
      "      Successfully uninstalled numpy-2.1.2\n",
      "Successfully installed catboost-1.2.7 graphviz-0.20.3 numpy-1.26.4\n"
     ]
    },
    {
     "name": "stderr",
     "output_type": "stream",
     "text": [
      "  WARNING: Failed to remove contents in a temporary directory 'C:\\Users\\ashis\\Desktop\\python\\code\\venv\\Lib\\site-packages\\~umpy.libs'.\n",
      "  You can safely remove it manually.\n",
      "  WARNING: Failed to remove contents in a temporary directory 'C:\\Users\\ashis\\Desktop\\python\\code\\venv\\Lib\\site-packages\\~umpy'.\n",
      "  You can safely remove it manually.\n"
     ]
    }
   ],
   "source": [
    "!pip install catboost"
   ]
  },
  {
   "cell_type": "code",
   "execution_count": 8,
   "metadata": {},
   "outputs": [],
   "source": [
    "# Basic Import \n",
    "import numpy as np\n",
    "import pandas as pd \n",
    "import matplotlib.pyplot as plt\n",
    "import seaborn as sns \n",
    "# Modelling \n",
    "from sklearn.metrics import mean_squared_error, r2_score \n",
    "from sklearn.neighbors import KNeighborsRegressor \n",
    "from sklearn.tree import DecisionTreeRegressor \n",
    "from sklearn.ensemble import RandomForestRegressor, AdaBoostRegressor \n",
    "from sklearn.svm import SVR\n",
    "from sklearn.linear_model import LinearRegression, Ridge, Lasso \n",
    "from sklearn.metrics import r2_score, mean_absolute_error, mean_squared_error \n",
    "from sklearn.model_selection import RandomizedSearchCV \n",
    "# from catboost import CatBoostRegressor\n",
    "from xgboost import XGBRegressor \n",
    "import warnings"
   ]
  },
  {
   "cell_type": "code",
   "execution_count": 9,
   "metadata": {},
   "outputs": [],
   "source": [
    "df=pd.read_csv('data/stu.csv')"
   ]
  },
  {
   "cell_type": "code",
   "execution_count": 10,
   "metadata": {},
   "outputs": [
    {
     "data": {
      "text/html": [
       "<div>\n",
       "<style scoped>\n",
       "    .dataframe tbody tr th:only-of-type {\n",
       "        vertical-align: middle;\n",
       "    }\n",
       "\n",
       "    .dataframe tbody tr th {\n",
       "        vertical-align: top;\n",
       "    }\n",
       "\n",
       "    .dataframe thead th {\n",
       "        text-align: right;\n",
       "    }\n",
       "</style>\n",
       "<table border=\"1\" class=\"dataframe\">\n",
       "  <thead>\n",
       "    <tr style=\"text-align: right;\">\n",
       "      <th></th>\n",
       "      <th>gender</th>\n",
       "      <th>race/ethnicity</th>\n",
       "      <th>parental level of education</th>\n",
       "      <th>lunch</th>\n",
       "      <th>test preparation course</th>\n",
       "      <th>math score</th>\n",
       "      <th>reading score</th>\n",
       "      <th>writing score</th>\n",
       "    </tr>\n",
       "  </thead>\n",
       "  <tbody>\n",
       "    <tr>\n",
       "      <th>0</th>\n",
       "      <td>female</td>\n",
       "      <td>group B</td>\n",
       "      <td>bachelor's degree</td>\n",
       "      <td>standard</td>\n",
       "      <td>none</td>\n",
       "      <td>72</td>\n",
       "      <td>72</td>\n",
       "      <td>74</td>\n",
       "    </tr>\n",
       "    <tr>\n",
       "      <th>1</th>\n",
       "      <td>female</td>\n",
       "      <td>group C</td>\n",
       "      <td>some college</td>\n",
       "      <td>standard</td>\n",
       "      <td>completed</td>\n",
       "      <td>69</td>\n",
       "      <td>90</td>\n",
       "      <td>88</td>\n",
       "    </tr>\n",
       "    <tr>\n",
       "      <th>2</th>\n",
       "      <td>female</td>\n",
       "      <td>group B</td>\n",
       "      <td>master's degree</td>\n",
       "      <td>standard</td>\n",
       "      <td>none</td>\n",
       "      <td>90</td>\n",
       "      <td>95</td>\n",
       "      <td>93</td>\n",
       "    </tr>\n",
       "    <tr>\n",
       "      <th>3</th>\n",
       "      <td>male</td>\n",
       "      <td>group A</td>\n",
       "      <td>associate's degree</td>\n",
       "      <td>free/reduced</td>\n",
       "      <td>none</td>\n",
       "      <td>47</td>\n",
       "      <td>57</td>\n",
       "      <td>44</td>\n",
       "    </tr>\n",
       "    <tr>\n",
       "      <th>4</th>\n",
       "      <td>male</td>\n",
       "      <td>group C</td>\n",
       "      <td>some college</td>\n",
       "      <td>standard</td>\n",
       "      <td>none</td>\n",
       "      <td>76</td>\n",
       "      <td>78</td>\n",
       "      <td>75</td>\n",
       "    </tr>\n",
       "  </tbody>\n",
       "</table>\n",
       "</div>"
      ],
      "text/plain": [
       "   gender race/ethnicity parental level of education         lunch  \\\n",
       "0  female        group B           bachelor's degree      standard   \n",
       "1  female        group C                some college      standard   \n",
       "2  female        group B             master's degree      standard   \n",
       "3    male        group A          associate's degree  free/reduced   \n",
       "4    male        group C                some college      standard   \n",
       "\n",
       "  test preparation course  math score  reading score  writing score  \n",
       "0                    none          72             72             74  \n",
       "1               completed          69             90             88  \n",
       "2                    none          90             95             93  \n",
       "3                    none          47             57             44  \n",
       "4                    none          76             78             75  "
      ]
     },
     "execution_count": 10,
     "metadata": {},
     "output_type": "execute_result"
    }
   ],
   "source": [
    "df.head()"
   ]
  },
  {
   "cell_type": "code",
   "execution_count": 11,
   "metadata": {},
   "outputs": [],
   "source": [
    "x=df.drop(columns=['math score'],axis=1)"
   ]
  },
  {
   "cell_type": "code",
   "execution_count": 12,
   "metadata": {},
   "outputs": [
    {
     "data": {
      "text/html": [
       "<div>\n",
       "<style scoped>\n",
       "    .dataframe tbody tr th:only-of-type {\n",
       "        vertical-align: middle;\n",
       "    }\n",
       "\n",
       "    .dataframe tbody tr th {\n",
       "        vertical-align: top;\n",
       "    }\n",
       "\n",
       "    .dataframe thead th {\n",
       "        text-align: right;\n",
       "    }\n",
       "</style>\n",
       "<table border=\"1\" class=\"dataframe\">\n",
       "  <thead>\n",
       "    <tr style=\"text-align: right;\">\n",
       "      <th></th>\n",
       "      <th>gender</th>\n",
       "      <th>race/ethnicity</th>\n",
       "      <th>parental level of education</th>\n",
       "      <th>lunch</th>\n",
       "      <th>test preparation course</th>\n",
       "      <th>reading score</th>\n",
       "      <th>writing score</th>\n",
       "    </tr>\n",
       "  </thead>\n",
       "  <tbody>\n",
       "    <tr>\n",
       "      <th>0</th>\n",
       "      <td>female</td>\n",
       "      <td>group B</td>\n",
       "      <td>bachelor's degree</td>\n",
       "      <td>standard</td>\n",
       "      <td>none</td>\n",
       "      <td>72</td>\n",
       "      <td>74</td>\n",
       "    </tr>\n",
       "    <tr>\n",
       "      <th>1</th>\n",
       "      <td>female</td>\n",
       "      <td>group C</td>\n",
       "      <td>some college</td>\n",
       "      <td>standard</td>\n",
       "      <td>completed</td>\n",
       "      <td>90</td>\n",
       "      <td>88</td>\n",
       "    </tr>\n",
       "    <tr>\n",
       "      <th>2</th>\n",
       "      <td>female</td>\n",
       "      <td>group B</td>\n",
       "      <td>master's degree</td>\n",
       "      <td>standard</td>\n",
       "      <td>none</td>\n",
       "      <td>95</td>\n",
       "      <td>93</td>\n",
       "    </tr>\n",
       "    <tr>\n",
       "      <th>3</th>\n",
       "      <td>male</td>\n",
       "      <td>group A</td>\n",
       "      <td>associate's degree</td>\n",
       "      <td>free/reduced</td>\n",
       "      <td>none</td>\n",
       "      <td>57</td>\n",
       "      <td>44</td>\n",
       "    </tr>\n",
       "    <tr>\n",
       "      <th>4</th>\n",
       "      <td>male</td>\n",
       "      <td>group C</td>\n",
       "      <td>some college</td>\n",
       "      <td>standard</td>\n",
       "      <td>none</td>\n",
       "      <td>78</td>\n",
       "      <td>75</td>\n",
       "    </tr>\n",
       "  </tbody>\n",
       "</table>\n",
       "</div>"
      ],
      "text/plain": [
       "   gender race/ethnicity parental level of education         lunch  \\\n",
       "0  female        group B           bachelor's degree      standard   \n",
       "1  female        group C                some college      standard   \n",
       "2  female        group B             master's degree      standard   \n",
       "3    male        group A          associate's degree  free/reduced   \n",
       "4    male        group C                some college      standard   \n",
       "\n",
       "  test preparation course  reading score  writing score  \n",
       "0                    none             72             74  \n",
       "1               completed             90             88  \n",
       "2                    none             95             93  \n",
       "3                    none             57             44  \n",
       "4                    none             78             75  "
      ]
     },
     "execution_count": 12,
     "metadata": {},
     "output_type": "execute_result"
    }
   ],
   "source": [
    "x.head()"
   ]
  },
  {
   "cell_type": "code",
   "execution_count": 13,
   "metadata": {},
   "outputs": [],
   "source": [
    "y=df['math score']"
   ]
  },
  {
   "cell_type": "code",
   "execution_count": 14,
   "metadata": {},
   "outputs": [
    {
     "data": {
      "text/plain": [
       "0      72\n",
       "1      69\n",
       "2      90\n",
       "3      47\n",
       "4      76\n",
       "       ..\n",
       "995    88\n",
       "996    62\n",
       "997    59\n",
       "998    68\n",
       "999    77\n",
       "Name: math score, Length: 1000, dtype: int64"
      ]
     },
     "execution_count": 14,
     "metadata": {},
     "output_type": "execute_result"
    }
   ],
   "source": [
    "y\n"
   ]
  },
  {
   "cell_type": "code",
   "execution_count": null,
   "metadata": {},
   "outputs": [],
   "source": []
  },
  {
   "cell_type": "code",
   "execution_count": 15,
   "metadata": {},
   "outputs": [],
   "source": [
    "#create a column transformer\n",
    "num_feature=x.select_dtypes(exclude=\"object\").columns\n",
    "cat_feature=x.select_dtypes(include=\"object\").columns\n",
    "\n",
    "from sklearn.preprocessing import OneHotEncoder, StandardScaler\n",
    "from sklearn.compose import ColumnTransformer\n",
    "\n",
    "num_tranformer=StandardScaler()\n",
    "oh_transformer=OneHotEncoder()\n",
    "preprocessor=ColumnTransformer(\n",
    "    [\n",
    "        (\"oneHotEncoder\",oh_transformer, cat_feature),\n",
    "        (\"StandardScaler\", num_tranformer,num_feature)\n",
    "    ]\n",
    ")"
   ]
  },
  {
   "cell_type": "code",
   "execution_count": 16,
   "metadata": {},
   "outputs": [],
   "source": [
    "x=preprocessor.fit_transform(x)\n"
   ]
  },
  {
   "cell_type": "code",
   "execution_count": 17,
   "metadata": {},
   "outputs": [
    {
     "data": {
      "text/plain": [
       "array([[ 1.        ,  0.        ,  0.        , ...,  1.        ,\n",
       "         0.19399858,  0.39149181],\n",
       "       [ 1.        ,  0.        ,  0.        , ...,  0.        ,\n",
       "         1.42747598,  1.31326868],\n",
       "       [ 1.        ,  0.        ,  0.        , ...,  1.        ,\n",
       "         1.77010859,  1.64247471],\n",
       "       ...,\n",
       "       [ 1.        ,  0.        ,  0.        , ...,  0.        ,\n",
       "         0.12547206, -0.20107904],\n",
       "       [ 1.        ,  0.        ,  0.        , ...,  0.        ,\n",
       "         0.60515772,  0.58901542],\n",
       "       [ 1.        ,  0.        ,  0.        , ...,  1.        ,\n",
       "         1.15336989,  1.18158627]])"
      ]
     },
     "execution_count": 17,
     "metadata": {},
     "output_type": "execute_result"
    }
   ],
   "source": [
    "x"
   ]
  },
  {
   "cell_type": "code",
   "execution_count": 19,
   "metadata": {},
   "outputs": [],
   "source": [
    "from sklearn.model_selection import train_test_split\n",
    "x_train,x_test,y_train, y_test=train_test_split(x,y, test_size=0.2, random_state=42)"
   ]
  },
  {
   "cell_type": "code",
   "execution_count": 20,
   "metadata": {},
   "outputs": [
    {
     "data": {
      "text/plain": [
       "(800, 19)"
      ]
     },
     "execution_count": 20,
     "metadata": {},
     "output_type": "execute_result"
    }
   ],
   "source": [
    "x_train.shape"
   ]
  },
  {
   "cell_type": "code",
   "execution_count": 21,
   "metadata": {},
   "outputs": [],
   "source": [
    "def evaluate_model(true, predicted):\n",
    "    mse=mean_absolute_error(true, predicted)\n",
    "    mae=mean_squared_error(true, predicted)\n",
    "    rmse=np.sqrt(mean_squared_error(true, predicted))\n",
    "    r2=r2_score(true, predicted)\n",
    "    return mae, mse, r2, rmse\n"
   ]
  },
  {
   "cell_type": "code",
   "execution_count": 22,
   "metadata": {},
   "outputs": [
    {
     "name": "stdout",
     "output_type": "stream",
     "text": [
      "Linear Regression\n",
      "model performance fro training set\n",
      "-Mean error 28.3485\n",
      "-Mean squared error4.2671\n",
      "-root mean error 0.8743\n",
      "-r2_score 5.3243\n",
      "----------------------------\n",
      "Model performace for the test set\n",
      "-Mean errror 29.1167\n",
      "-mean sqaured error 4.2158\n",
      "-root mean error 0.8803\n",
      "-r2_Score 5.3960\n",
      "lasso\n",
      "model performance fro training set\n",
      "-Mean error 43.4784\n",
      "-Mean squared error5.2063\n",
      "-root mean error 0.8071\n",
      "-r2_score 6.5938\n",
      "----------------------------\n",
      "Model performace for the test set\n",
      "-Mean errror 42.5064\n",
      "-mean sqaured error 5.1579\n",
      "-root mean error 0.8253\n",
      "-r2_Score 6.5197\n",
      "Ridge\n",
      "model performance fro training set\n",
      "-Mean error 28.3378\n",
      "-Mean squared error4.2650\n",
      "-root mean error 0.8743\n",
      "-r2_score 5.3233\n",
      "----------------------------\n",
      "Model performace for the test set\n",
      "-Mean errror 29.0563\n",
      "-mean sqaured error 4.2111\n",
      "-root mean error 0.8806\n",
      "-r2_Score 5.3904\n",
      "KNeighborsRegressor\n",
      "model performance fro training set\n",
      "-Mean error 32.5776\n",
      "-Mean squared error4.5167\n",
      "-root mean error 0.8555\n",
      "-r2_score 5.7077\n",
      "----------------------------\n",
      "Model performace for the test set\n",
      "-Mean errror 52.6066\n",
      "-mean sqaured error 5.6210\n",
      "-root mean error 0.7838\n",
      "-r2_Score 7.2530\n",
      "Decision TreeRegressor\n",
      "model performance fro training set\n",
      "-Mean error 0.0781\n",
      "-Mean squared error0.0187\n",
      "-root mean error 0.9997\n",
      "-r2_score 0.2795\n",
      "----------------------------\n",
      "Model performace for the test set\n",
      "-Mean errror 61.3650\n",
      "-mean sqaured error 6.3250\n",
      "-root mean error 0.7478\n",
      "-r2_Score 7.8336\n",
      "random forest regresson\n",
      "model performance fro training set\n",
      "-Mean error 5.4202\n",
      "-Mean squared error1.8411\n",
      "-root mean error 0.9760\n",
      "-r2_score 2.3281\n",
      "----------------------------\n",
      "Model performace for the test set\n",
      "-Mean errror 36.0464\n",
      "-mean sqaured error 4.6521\n",
      "-root mean error 0.8519\n",
      "-r2_Score 6.0039\n",
      "XGBRegressor\n",
      "model performance fro training set\n",
      "-Mean error 1.0146\n",
      "-Mean squared error0.6875\n",
      "-root mean error 0.9955\n",
      "-r2_score 1.0073\n",
      "----------------------------\n",
      "Model performace for the test set\n",
      "-Mean errror 41.9037\n",
      "-mean sqaured error 5.0577\n",
      "-root mean error 0.8278\n",
      "-r2_Score 6.4733\n",
      "AdaBoostRegressor\n",
      "model performance fro training set\n",
      "-Mean error 33.3042\n",
      "-Mean squared error4.6898\n",
      "-root mean error 0.8523\n",
      "-r2_score 5.7710\n",
      "----------------------------\n",
      "Model performace for the test set\n",
      "-Mean errror 36.9582\n",
      "-mean sqaured error 4.7747\n",
      "-root mean error 0.8481\n",
      "-r2_Score 6.0793\n"
     ]
    }
   ],
   "source": [
    "models={\n",
    "    \"Linear Regression\":LinearRegression(),\n",
    "    \"lasso\":Lasso(),\n",
    "    \"Ridge\":Ridge(),\n",
    "    \"KNeighborsRegressor\":KNeighborsRegressor(),\n",
    "    \"Decision TreeRegressor\":DecisionTreeRegressor(),\n",
    "    \"random forest regresson\":RandomForestRegressor(),\n",
    "    \"XGBRegressor\":XGBRegressor(),\n",
    "    \"AdaBoostRegressor\":AdaBoostRegressor()\n",
    "}\n",
    "model_list=[]\n",
    "r2_list=[]\n",
    "for i in range(len(list(models))):\n",
    "    model= list(models.values())[i]\n",
    "    model.fit(x_train,y_train)\n",
    "\n",
    "    #make predictions\n",
    "    y_train_pred=model.predict(x_train)\n",
    "    y_test_pred=model.predict(x_test)\n",
    "\n",
    "    ##training performance\n",
    "    model_train_mae, model_train_mse, model_train_rmse, model_train_r2=evaluate_model(y_train, y_train_pred)\n",
    "\n",
    "    ## test set performamnce\n",
    "    model_test_mae, model_test_mse, model_test_rmse, model_test_r2=evaluate_model(y_test, y_test_pred)\n",
    "    print(list(models.keys())[i])\n",
    "\n",
    "    print('model performance fro training set')\n",
    "    print(\"-Mean error {:.4f}\".format(model_train_mae))\n",
    "    print(\"-Mean squared error{:.4f}\".format(model_train_mse))\n",
    "    print(\"-root mean error {:.4f}\".format(model_train_rmse))\n",
    "    print(\"-r2_score {:.4f}\".format(model_train_r2))\n",
    "    # print(\"-roc auc score {:.4f}\".format(model_train_rouac_score))\n",
    "\n",
    "    print('----------------------------')\n",
    "\n",
    "    print('Model performace for the test set')\n",
    "    print(\"-Mean errror {:.4f}\".format(model_test_mae))\n",
    "    print(\"-mean sqaured error {:.4f}\".format(model_test_mse))\n",
    "    print(\"-root mean error {:.4f}\".format(model_test_rmse))\n",
    "    print(\"-r2_Score {:.4f}\".format(model_test_r2))\n",
    "    # print(\"-roc auc score {:.4f}\".format(model_test_rouac_score))\n",
    "\n",
    "\n",
    "\n"
   ]
  },
  {
   "cell_type": "code",
   "execution_count": 26,
   "metadata": {},
   "outputs": [
    {
     "name": "stdout",
     "output_type": "stream",
     "text": [
      "88.03449074540941\n"
     ]
    }
   ],
   "source": [
    "lin_model=LinearRegression(fit_intercept=True)\n",
    "lin_model=lin_model.fit(x_train,y_train)\n",
    "y_pred=lin_model.predict(x_test)\n",
    "score=r2_score(y_test,y_pred)*100\n",
    "print(score)"
   ]
  },
  {
   "cell_type": "code",
   "execution_count": 27,
   "metadata": {},
   "outputs": [
    {
     "data": {
      "text/plain": [
       "<matplotlib.collections.PathCollection at 0x1b7df5d8a60>"
      ]
     },
     "execution_count": 27,
     "metadata": {},
     "output_type": "execute_result"
    },
    {
     "data": {
      "image/png": "[encoded data removed]",
      "text/plain": [
       "<Figure size 640x480 with 1 Axes>"
      ]
     },
     "metadata": {},
     "output_type": "display_data"
    }
   ],
   "source": [
    "plt.scatter(y_test,y_pred)\n"
   ]
  },
  {
   "cell_type": "code",
   "execution_count": 28,
   "metadata": {},
   "outputs": [
    {
     "data": {
      "text/plain": [
       "<Axes: xlabel='math score'>"
      ]
     },
     "execution_count": 28,
     "metadata": {},
     "output_type": "execute_result"
    },
    {
     "data": {
      "image/png": "[encoded data removed]",
      "text/plain": [
       "<Figure size 640x480 with 1 Axes>"
      ]
     },
     "metadata": {},
     "output_type": "display_data"
    }
   ],
   "source": [
    "sns.regplot(x=y_test, y=y_pred, color='red')"
   ]
  },
  {
   "cell_type": "code",
   "execution_count": null,
   "metadata": {},
   "outputs": [],
   "source": []
  }
 ],
 "metadata": {
  "kernelspec": {
   "display_name": "Python 3",
   "language": "python",
   "name": "python3"
  },
  "language_info": {
   "codemirror_mode": {
    "name": "ipython",
    "version": 3
   },
   "file_extension": ".py",
   "mimetype": "text/x-python",
   "name": "python",
   "nbconvert_exporter": "python",
   "pygments_lexer": "ipython3",
   "version": "3.10.15"
  }
 },
 "nbformat": 4,
 "nbformat_minor": 2
}
